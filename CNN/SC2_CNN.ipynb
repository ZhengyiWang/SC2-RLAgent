{
 "cells": [
  {
   "cell_type": "code",
   "execution_count": 1,
   "metadata": {},
   "outputs": [],
   "source": [
    "import tensorflow as tf\n",
    "from tensorflow import keras\n",
    "from tensorflow.keras.models import Sequential\n",
    "from tensorflow.keras.layers import Dense, Dropout, Flatten, Conv2D, MaxPooling2D\n",
    "from tensorflow.keras.layers import BatchNormalization\n",
    "import pandas as pd\n",
    "import numpy as np\n",
    "from sklearn.model_selection import train_test_split\n",
    "from sklearn.preprocessing import OneHotEncoder\n",
    "import glob\n",
    "import imageio"
   ]
  },
  {
   "cell_type": "code",
   "execution_count": 20,
   "metadata": {},
   "outputs": [],
   "source": [
    "def processData(imPath, labelPath):\n",
    "    df = pd.read_csv('./train/actions.csv', header=None)\n",
    "    yEncoder = OneHotEncoder(handle_unknown='ignore')\n",
    "    labels = yEncoder.fit_transform(df).toarray()\n",
    "    #yEncoder.fit(df)\n",
    "    #labelNames = yEncoder.get_feature_names()\n",
    "    data = []\n",
    "    imPaths = glob.glob(imPath)\n",
    "    for i in imPaths:\n",
    "        ID = i.split('\\\\')[1].split('.')[0]\n",
    "        tmp = imageio.imread(i)\n",
    "        tmp = [tmp/255.0, labels[int(ID)]]\n",
    "        #tmp = [tmp/255.0, df.loc[int(ID)].values[0]]\n",
    "        data.append(tmp)\n",
    "    return data"
   ]
  },
  {
   "cell_type": "code",
   "execution_count": 21,
   "metadata": {},
   "outputs": [],
   "source": [
    "data_pair = processData('./train/train image/*.png', './train/actions.csv')"
   ]
  },
  {
   "cell_type": "code",
   "execution_count": 22,
   "metadata": {},
   "outputs": [
    {
     "name": "stdout",
     "output_type": "stream",
     "text": [
      "(13040, 64, 64, 3)\n",
      "(13040, 12)\n"
     ]
    }
   ],
   "source": [
    "train, test = train_test_split(data_pair, test_size=0.2)\n",
    "trainX = np.array([i[0] for i in train])\n",
    "trainY = np.array([i[1] for i in train])\n",
    "testX = np.array([i[0] for i in test])\n",
    "testY = np.array([i[1] for i in test])\n",
    "print(trainX.shape)\n",
    "print(trainY.shape)"
   ]
  },
  {
   "cell_type": "code",
   "execution_count": 26,
   "metadata": {},
   "outputs": [
    {
     "name": "stdout",
     "output_type": "stream",
     "text": [
      "Model: \"sequential_2\"\n",
      "_________________________________________________________________\n",
      "Layer (type)                 Output Shape              Param #   \n",
      "=================================================================\n",
      "conv2d_6 (Conv2D)            (None, 64, 64, 32)        896       \n",
      "_________________________________________________________________\n",
      "max_pooling2d_6 (MaxPooling2 (None, 32, 32, 32)        0         \n",
      "_________________________________________________________________\n",
      "batch_normalization_6 (Batch (None, 32, 32, 32)        128       \n",
      "_________________________________________________________________\n",
      "conv2d_7 (Conv2D)            (None, 32, 32, 64)        18496     \n",
      "_________________________________________________________________\n",
      "max_pooling2d_7 (MaxPooling2 (None, 16, 16, 64)        0         \n",
      "_________________________________________________________________\n",
      "batch_normalization_7 (Batch (None, 16, 16, 64)        256       \n",
      "_________________________________________________________________\n",
      "conv2d_8 (Conv2D)            (None, 16, 16, 128)       73856     \n",
      "_________________________________________________________________\n",
      "max_pooling2d_8 (MaxPooling2 (None, 8, 8, 128)         0         \n",
      "_________________________________________________________________\n",
      "batch_normalization_8 (Batch (None, 8, 8, 128)         512       \n",
      "_________________________________________________________________\n",
      "flatten_2 (Flatten)          (None, 8192)              0         \n",
      "_________________________________________________________________\n",
      "dense_6 (Dense)              (None, 256)               2097408   \n",
      "_________________________________________________________________\n",
      "dense_7 (Dense)              (None, 128)               32896     \n",
      "_________________________________________________________________\n",
      "dropout_2 (Dropout)          (None, 128)               0         \n",
      "_________________________________________________________________\n",
      "dense_8 (Dense)              (None, 12)                1548      \n",
      "=================================================================\n",
      "Total params: 2,225,996\n",
      "Trainable params: 2,225,548\n",
      "Non-trainable params: 448\n",
      "_________________________________________________________________\n",
      "None\n"
     ]
    }
   ],
   "source": [
    "model = Sequential()\n",
    "model.add(Conv2D(32, kernel_size=(3, 3), activation='relu', input_shape=(64, 64, 3), padding='same'))\n",
    "model.add(MaxPooling2D(pool_size=(2, 2)))\n",
    "model.add(BatchNormalization())\n",
    "model.add(Conv2D(64, kernel_size=(3, 3), activation='relu', padding='same'))\n",
    "model.add(MaxPooling2D(pool_size=(2, 2)))\n",
    "model.add(BatchNormalization())\n",
    "model.add(Conv2D(128, kernel_size=(3, 3), activation='relu', padding='same'))\n",
    "model.add(MaxPooling2D(pool_size=(2, 2)))\n",
    "model.add(BatchNormalization())\n",
    "model.add(Flatten())\n",
    "model.add(Dense(256, activation='relu'))\n",
    "model.add(Dense(128, activation='relu'))\n",
    "model.add(Dropout(0.2))\n",
    "model.add(Dense(12, activation='softmax'))\n",
    "model.compile(loss='categorical_crossentropy', optimizer='adam', metrics=['accuracy'])\n",
    "print(model.summary())"
   ]
  },
  {
   "cell_type": "code",
   "execution_count": null,
   "metadata": {},
   "outputs": [
    {
     "name": "stdout",
     "output_type": "stream",
     "text": [
      "Epoch 1/30\n",
      "66/66 [==============================] - 45s 680ms/step - loss: 2.7111 - accuracy: 0.0885\n",
      "Epoch 2/30\n",
      "66/66 [==============================] - 44s 671ms/step - loss: 2.4866 - accuracy: 0.0840\n",
      "Epoch 3/30\n",
      "66/66 [==============================] - 44s 663ms/step - loss: 2.4848 - accuracy: 0.0862\n",
      "Epoch 4/30\n",
      "66/66 [==============================] - 43s 653ms/step - loss: 2.4845 - accuracy: 0.0863\n",
      "Epoch 5/30\n",
      "66/66 [==============================] - 43s 647ms/step - loss: 2.4847 - accuracy: 0.0898\n",
      "Epoch 6/30\n",
      "66/66 [==============================] - 43s 655ms/step - loss: 2.4843 - accuracy: 0.0876\n",
      "Epoch 7/30\n",
      "66/66 [==============================] - 44s 666ms/step - loss: 2.4846 - accuracy: 0.0884\n",
      "Epoch 8/30\n",
      "66/66 [==============================] - 42s 638ms/step - loss: 2.4847 - accuracy: 0.0885\n",
      "Epoch 9/30\n",
      "66/66 [==============================] - 45s 689ms/step - loss: 2.4841 - accuracy: 0.0881\n",
      "Epoch 10/30\n",
      "66/66 [==============================] - 43s 648ms/step - loss: 2.4845 - accuracy: 0.0860\n",
      "Epoch 11/30\n",
      "66/66 [==============================] - 46s 698ms/step - loss: 2.4842 - accuracy: 0.0885\n",
      "Epoch 12/30\n",
      "66/66 [==============================] - 49s 741ms/step - loss: 2.4840 - accuracy: 0.0883\n",
      "Epoch 13/30\n",
      "66/66 [==============================] - 49s 737ms/step - loss: 2.4837 - accuracy: 0.0874\n",
      "Epoch 14/30\n",
      "66/66 [==============================] - 47s 707ms/step - loss: 2.4837 - accuracy: 0.0826\n",
      "Epoch 15/30\n",
      "66/66 [==============================] - 48s 723ms/step - loss: 2.4834 - accuracy: 0.0879\n",
      "Epoch 16/30\n",
      "29/66 [============>.................] - ETA: 24s - loss: 2.4843 - accuracy: 0.0843"
     ]
    }
   ],
   "source": [
    "model.fit(trainX, trainY, batch_size=200, epochs=30, verbose=1)"
   ]
  },
  {
   "cell_type": "code",
   "execution_count": null,
   "metadata": {},
   "outputs": [],
   "source": [
    "model.evaluate(testX,  testY)"
   ]
  }
 ],
 "metadata": {
  "kernelspec": {
   "display_name": "Python 3",
   "language": "python",
   "name": "python3"
  },
  "language_info": {
   "codemirror_mode": {
    "name": "ipython",
    "version": 3
   },
   "file_extension": ".py",
   "mimetype": "text/x-python",
   "name": "python",
   "nbconvert_exporter": "python",
   "pygments_lexer": "ipython3",
   "version": "3.7.6"
  }
 },
 "nbformat": 4,
 "nbformat_minor": 2
}
